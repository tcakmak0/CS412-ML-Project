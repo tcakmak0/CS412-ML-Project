{
 "cells": [
  {
   "cell_type": "markdown",
   "metadata": {},
   "source": [
    "## Feature Extraction and Data Analysis"
   ]
  },
  {
   "cell_type": "markdown",
   "metadata": {},
   "source": [
    "### Goal of the notebook: \n",
    "- In this notebook we will try to analyze the given data to identify which columns are useful to traint the model"
   ]
  },
  {
   "cell_type": "markdown",
   "metadata": {},
   "source": [
    "- Firstly, let's see how many columns are there and what are they."
   ]
  },
  {
   "cell_type": "code",
   "execution_count": 201,
   "metadata": {},
   "outputs": [],
   "source": [
    "import numpy as np\n",
    "import pandas as pd\n",
    "import gzip\n",
    "import json\n",
    "import re\n",
    "\n",
    "from pprint import pprint\n",
    "from sklearn.feature_extraction.text import TfidfVectorizer\n",
    "from pandas import json_normalize\n",
    "\n",
    "# Load the compressed JSON file\n",
    "df = pd.read_json('training-dataset.jsonl.gz', lines=True, compression='gzip')\n",
    "\n"
   ]
  },
  {
   "cell_type": "code",
   "execution_count": 202,
   "metadata": {},
   "outputs": [],
   "source": [
    "df_profile = json_normalize(df['profile'])\n",
    "df_posts = df['posts']"
   ]
  },
  {
   "cell_type": "code",
   "execution_count": 203,
   "metadata": {},
   "outputs": [
    {
     "data": {
      "text/html": [
       "<div>\n",
       "<style scoped>\n",
       "    .dataframe tbody tr th:only-of-type {\n",
       "        vertical-align: middle;\n",
       "    }\n",
       "\n",
       "    .dataframe tbody tr th {\n",
       "        vertical-align: top;\n",
       "    }\n",
       "\n",
       "    .dataframe thead th {\n",
       "        text-align: right;\n",
       "    }\n",
       "</style>\n",
       "<table border=\"1\" class=\"dataframe\">\n",
       "  <thead>\n",
       "    <tr style=\"text-align: right;\">\n",
       "      <th></th>\n",
       "      <th>username</th>\n",
       "      <th>id</th>\n",
       "      <th>full_name</th>\n",
       "      <th>biography</th>\n",
       "      <th>category_name</th>\n",
       "      <th>post_count</th>\n",
       "      <th>follower_count</th>\n",
       "      <th>following_count</th>\n",
       "      <th>is_business_account</th>\n",
       "      <th>is_private</th>\n",
       "      <th>...</th>\n",
       "      <th>business_category_name</th>\n",
       "      <th>overall_category_name</th>\n",
       "      <th>category_enum</th>\n",
       "      <th>is_verified_by_mv4b</th>\n",
       "      <th>is_regulated_c18</th>\n",
       "      <th>profile_pic_url</th>\n",
       "      <th>should_show_category</th>\n",
       "      <th>should_show_public_contacts</th>\n",
       "      <th>show_account_transparency_details</th>\n",
       "      <th>profile_picture_base64</th>\n",
       "    </tr>\n",
       "  </thead>\n",
       "  <tbody>\n",
       "  </tbody>\n",
       "</table>\n",
       "<p>0 rows × 44 columns</p>\n",
       "</div>"
      ],
      "text/plain": [
       "Empty DataFrame\n",
       "Columns: [username, id, full_name, biography, category_name, post_count, follower_count, following_count, is_business_account, is_private, is_verified, highlight_reel_count, bio_links, entities, ai_agent_type, fb_profile_biolink, restricted_by_viewer, country_block, eimu_id, external_url, fbid, has_clips, hide_like_and_view_counts, is_professional_account, is_supervision_enabled, is_guardian_of_viewer, is_supervised_by_viewer, is_supervised_user, is_embeds_disabled, is_joined_recently, business_address_json, business_contact_method, business_email, business_phone_number, business_category_name, overall_category_name, category_enum, is_verified_by_mv4b, is_regulated_c18, profile_pic_url, should_show_category, should_show_public_contacts, show_account_transparency_details, profile_picture_base64]\n",
       "Index: []\n",
       "\n",
       "[0 rows x 44 columns]"
      ]
     },
     "execution_count": 203,
     "metadata": {},
     "output_type": "execute_result"
    }
   ],
   "source": [
    "df_profile.head(0)\n"
   ]
  },
  {
   "cell_type": "code",
   "execution_count": 204,
   "metadata": {},
   "outputs": [
    {
     "name": "stdout",
     "output_type": "stream",
     "text": [
      "Columns in the profile dataframe:\n",
      "1. username\n",
      "2. id\n",
      "3. full_name\n",
      "4. biography\n",
      "5. category_name\n",
      "6. post_count\n",
      "7. follower_count\n",
      "8. following_count\n",
      "9. is_business_account\n",
      "10. is_private\n",
      "11. is_verified\n",
      "12. highlight_reel_count\n",
      "13. bio_links\n",
      "14. entities\n",
      "15. ai_agent_type\n",
      "16. fb_profile_biolink\n",
      "17. restricted_by_viewer\n",
      "18. country_block\n",
      "19. eimu_id\n",
      "20. external_url\n",
      "21. fbid\n",
      "22. has_clips\n",
      "23. hide_like_and_view_counts\n",
      "24. is_professional_account\n",
      "25. is_supervision_enabled\n",
      "26. is_guardian_of_viewer\n",
      "27. is_supervised_by_viewer\n",
      "28. is_supervised_user\n",
      "29. is_embeds_disabled\n",
      "30. is_joined_recently\n",
      "31. business_address_json\n",
      "32. business_contact_method\n",
      "33. business_email\n",
      "34. business_phone_number\n",
      "35. business_category_name\n",
      "36. overall_category_name\n",
      "37. category_enum\n",
      "38. is_verified_by_mv4b\n",
      "39. is_regulated_c18\n",
      "40. profile_pic_url\n",
      "41. should_show_category\n",
      "42. should_show_public_contacts\n",
      "43. show_account_transparency_details\n",
      "44. profile_picture_base64\n"
     ]
    }
   ],
   "source": [
    "# List all the columns in the profile dataframe in a better format\n",
    "print(\"Columns in the profile dataframe:\")\n",
    "for i, col in enumerate(df_profile.columns):\n",
    "    print(f\"{i+1}. {col}\")"
   ]
  },
  {
   "cell_type": "markdown",
   "metadata": {},
   "source": [
    "We have 44 feature for each profile + 35 posts (each have 7 different features). So, let's try to get rid of some profile features. We know all ids are unique, so we cannot extract anything from them. Also all URL and json formatted columns are probably very hard to extract information, so we can just ignore them at least at this point.\n",
    "\n",
    "I also just dropped a few metadata related features. In total, I eliminated 11 different features which are below."
   ]
  },
  {
   "cell_type": "code",
   "execution_count": 205,
   "metadata": {},
   "outputs": [],
   "source": [
    "# Drop useless features\n",
    "# These are mostly metadata, and some links that are not useful for our analysis\n",
    "# We also drop the id column, since it is unique for each user and does not provide any useful information\n",
    "\n",
    "df_profile = df_profile.drop(columns=['id', 'bio_links','country_block'\n",
    "                                      ,'eimu_id', 'external_url','fbid'\n",
    "                                      ,'profile_pic_url','profile_picture_base64'\n",
    "                                      ,'fb_profile_biolink'\n",
    "                                      ,'show_account_transparency_details'\n",
    "                                      , 'business_address_json'])"
   ]
  },
  {
   "cell_type": "code",
   "execution_count": 206,
   "metadata": {},
   "outputs": [
    {
     "data": {
      "text/plain": [
       "(5415, 33)"
      ]
     },
     "execution_count": 206,
     "metadata": {},
     "output_type": "execute_result"
    }
   ],
   "source": [
    "df_profile.shape"
   ]
  },
  {
   "cell_type": "markdown",
   "metadata": {},
   "source": [
    "Great! We just eliminated 11 features, remained 33...\n",
    "- At this point I want to measure the variance of each column. If the variance is very low, it indicates the data is not discriminative enough, so actually no need to keep them here.\n",
    "\n",
    "- But, before doing that I need to eliminate the text based columns and encode the categorical columns\n",
    "\n",
    "- Also, I will have to get rid of mostly null blocks."
   ]
  },
  {
   "cell_type": "code",
   "execution_count": 207,
   "metadata": {},
   "outputs": [
    {
     "name": "stdout",
     "output_type": "stream",
     "text": [
      "Percentage of null values in each column:\n",
      "business_phone_number          : 100.00% null,   0.00% non-null\n",
      "overall_category_name          : 100.00% null,   0.00% non-null\n",
      "business_email                 : 100.00% null,   0.00% non-null\n",
      "ai_agent_type                  : 100.00% null,   0.00% non-null\n",
      "restricted_by_viewer           : 100.00% null,   0.00% non-null\n",
      "business_category_name         :  89.97% null,  10.03% non-null\n",
      "post_count                     :  89.31% null,  10.69% non-null\n",
      "category_enum                  :  41.07% null,  58.93% non-null\n",
      "category_name                  :  18.84% null,  81.16% non-null\n",
      "biography                      :   6.43% null,  93.57% non-null\n",
      "entities                       :   6.43% null,  93.57% non-null\n",
      "full_name                      :   1.03% null,  98.97% non-null\n",
      "is_joined_recently             :   0.00% null, 100.00% non-null\n",
      "business_contact_method        :   0.00% null, 100.00% non-null\n",
      "username                       :   0.00% null, 100.00% non-null\n",
      "is_supervised_user             :   0.00% null, 100.00% non-null\n",
      "is_verified_by_mv4b            :   0.00% null, 100.00% non-null\n",
      "is_regulated_c18               :   0.00% null, 100.00% non-null\n",
      "should_show_category           :   0.00% null, 100.00% non-null\n",
      "is_embeds_disabled             :   0.00% null, 100.00% non-null\n",
      "is_professional_account        :   0.00% null, 100.00% non-null\n",
      "is_supervised_by_viewer        :   0.00% null, 100.00% non-null\n",
      "is_guardian_of_viewer          :   0.00% null, 100.00% non-null\n",
      "is_supervision_enabled         :   0.00% null, 100.00% non-null\n",
      "hide_like_and_view_counts      :   0.00% null, 100.00% non-null\n",
      "has_clips                      :   0.00% null, 100.00% non-null\n",
      "highlight_reel_count           :   0.00% null, 100.00% non-null\n",
      "is_verified                    :   0.00% null, 100.00% non-null\n",
      "is_private                     :   0.00% null, 100.00% non-null\n",
      "is_business_account            :   0.00% null, 100.00% non-null\n",
      "following_count                :   0.00% null, 100.00% non-null\n",
      "follower_count                 :   0.00% null, 100.00% non-null\n",
      "should_show_public_contacts    :   0.00% null, 100.00% non-null\n"
     ]
    }
   ],
   "source": [
    "# Calculate percentage of null values for each column\n",
    "null_percentages = (df_profile.isnull().sum() / len(df_profile) * 100).round(2)\n",
    "\n",
    "# Sort values in descending order and create a readable format\n",
    "null_analysis = pd.DataFrame({\n",
    "    'Null %': null_percentages,\n",
    "    'Non-Null %': 100 - null_percentages\n",
    "}).sort_values('Null %', ascending=False)\n",
    "\n",
    "print(\"Percentage of null values in each column:\")\n",
    "for idx, row in null_analysis.iterrows():\n",
    "    print(f\"{idx:<30} : {row['Null %']:>6.2f}% null, {row['Non-Null %']:>6.2f}% non-null\")"
   ]
  },
  {
   "cell_type": "markdown",
   "metadata": {},
   "source": [
    "- Interestingly we have 5 columns which are 100% NULL in our data. So, (with a great pleasure) we can drop them.\n",
    "\n",
    "- I decided to set a treshold as if more than 25% of data missing. Just get rid of it."
   ]
  },
  {
   "cell_type": "code",
   "execution_count": 208,
   "metadata": {},
   "outputs": [],
   "source": [
    "df_profile = df_profile.drop(columns=[  'business_phone_number'\n",
    "                                      , 'overall_category_name'\n",
    "                                      , 'business_email'\n",
    "                                      , 'ai_agent_type'\n",
    "                                      , 'restricted_by_viewer'\n",
    "                                      , 'business_category_name'\n",
    "                                      , 'post_count'\n",
    "                                      , 'category_enum'])"
   ]
  },
  {
   "cell_type": "code",
   "execution_count": 209,
   "metadata": {},
   "outputs": [
    {
     "data": {
      "text/plain": [
       "(5415, 25)"
      ]
     },
     "execution_count": 209,
     "metadata": {},
     "output_type": "execute_result"
    }
   ],
   "source": [
    "df_profile.shape"
   ]
  },
  {
   "cell_type": "markdown",
   "metadata": {},
   "source": [
    "Now, we need to decide how we will fight against the missing data.\n",
    "\n",
    "All the missing data is in the textual part. So, we can just replace them with empty string.\n",
    "(Keep it simple...)"
   ]
  },
  {
   "cell_type": "code",
   "execution_count": 210,
   "metadata": {},
   "outputs": [],
   "source": [
    "text_colums = [\"category_name\",\"biography\", \"username\", \"entities\", \"full_name\"]\n",
    "\n",
    "# Fill missing values with empty strings\n",
    "df_profile[text_colums] = df_profile[text_colums].fillna('')"
   ]
  },
  {
   "cell_type": "markdown",
   "metadata": {},
   "source": [
    "Now, there must be no null data."
   ]
  },
  {
   "cell_type": "code",
   "execution_count": 211,
   "metadata": {},
   "outputs": [
    {
     "name": "stdout",
     "output_type": "stream",
     "text": [
      "Percentage of null values in each column:\n",
      "username                       :   0.00% null, 100.00% non-null\n",
      "is_professional_account        :   0.00% null, 100.00% non-null\n",
      "should_show_category           :   0.00% null, 100.00% non-null\n",
      "is_regulated_c18               :   0.00% null, 100.00% non-null\n",
      "is_verified_by_mv4b            :   0.00% null, 100.00% non-null\n",
      "business_contact_method        :   0.00% null, 100.00% non-null\n",
      "is_joined_recently             :   0.00% null, 100.00% non-null\n",
      "is_embeds_disabled             :   0.00% null, 100.00% non-null\n",
      "is_supervised_user             :   0.00% null, 100.00% non-null\n",
      "is_supervised_by_viewer        :   0.00% null, 100.00% non-null\n",
      "is_guardian_of_viewer          :   0.00% null, 100.00% non-null\n",
      "is_supervision_enabled         :   0.00% null, 100.00% non-null\n",
      "hide_like_and_view_counts      :   0.00% null, 100.00% non-null\n",
      "full_name                      :   0.00% null, 100.00% non-null\n",
      "has_clips                      :   0.00% null, 100.00% non-null\n",
      "entities                       :   0.00% null, 100.00% non-null\n",
      "highlight_reel_count           :   0.00% null, 100.00% non-null\n",
      "is_verified                    :   0.00% null, 100.00% non-null\n",
      "is_private                     :   0.00% null, 100.00% non-null\n",
      "is_business_account            :   0.00% null, 100.00% non-null\n",
      "following_count                :   0.00% null, 100.00% non-null\n",
      "follower_count                 :   0.00% null, 100.00% non-null\n",
      "category_name                  :   0.00% null, 100.00% non-null\n",
      "biography                      :   0.00% null, 100.00% non-null\n",
      "should_show_public_contacts    :   0.00% null, 100.00% non-null\n"
     ]
    }
   ],
   "source": [
    "# Calculate percentage of null values for each column\n",
    "null_percentages = (df_profile.isnull().sum() / len(df_profile) * 100).round(2)\n",
    "\n",
    "# Sort values in descending order and create a readable format\n",
    "null_analysis = pd.DataFrame({\n",
    "    'Null %': null_percentages,\n",
    "    'Non-Null %': 100 - null_percentages\n",
    "}).sort_values('Null %', ascending=False)\n",
    "\n",
    "print(\"Percentage of null values in each column:\")\n",
    "for idx, row in null_analysis.iterrows():\n",
    "    print(f\"{idx:<30} : {row['Null %']:>6.2f}% null, {row['Non-Null %']:>6.2f}% non-null\")"
   ]
  },
  {
   "cell_type": "code",
   "execution_count": 212,
   "metadata": {},
   "outputs": [
    {
     "name": "stdout",
     "output_type": "stream",
     "text": [
      "Variance of numeric columns:\n",
      "follower_count                 : 21,358,813,287,149.109375000\n",
      "following_count                : 973,836.608447848\n",
      "highlight_reel_count           : 18,094.788261069\n",
      "is_business_account            : 0.207220226\n",
      "is_verified                    : 0.183999692\n",
      "should_show_public_contacts    : 0.154403088\n",
      "should_show_category           : 0.146715008\n",
      "has_clips                      : 0.067163378\n",
      "hide_like_and_view_counts      : 0.060468721\n",
      "is_professional_account        : 0.000553812\n",
      "is_private                     : 0.000369276\n",
      "is_regulated_c18               : 0.000184672\n",
      "is_guardian_of_viewer          : 0.000000000\n",
      "is_supervised_by_viewer        : 0.000000000\n",
      "is_supervised_user             : 0.000000000\n",
      "is_embeds_disabled             : 0.000000000\n",
      "is_joined_recently             : 0.000000000\n",
      "is_verified_by_mv4b            : 0.000000000\n",
      "is_supervision_enabled         : 0.000000000\n"
     ]
    }
   ],
   "source": [
    "# Create a new dataframe excluding text columns but including boolean columns\n",
    "numeric_df = df_profile.select_dtypes(include=['int64', 'bool']).copy()\n",
    "\n",
    "# Convert boolean columns to numeric (0/1)\n",
    "bool_columns = numeric_df.select_dtypes(include=['bool']).columns\n",
    "numeric_df[bool_columns] = numeric_df[bool_columns].astype(int)\n",
    "\n",
    "# Calculate variance for each column\n",
    "variances = numeric_df.var()\n",
    "\n",
    "# Create a readable format for the results\n",
    "variance_analysis = pd.DataFrame({\n",
    "    'Variance': variances,\n",
    "}).sort_values('Variance', ascending=False)\n",
    "zero_variance_columns = []\n",
    "print(\"Variance of numeric columns:\")\n",
    "for idx, row in variance_analysis.iterrows():\n",
    "    print(f\"{idx:<30} : {row['Variance']:,.9f}\")\n",
    "    if row['Variance'] < 1e-3:\n",
    "        zero_variance_columns.append(idx)"
   ]
  },
  {
   "cell_type": "markdown",
   "metadata": {},
   "source": [
    "We will drop all columns with varince less than 1e-3. These columns doesn't change at all in our case. Nothing discriminative.\n",
    "\n",
    "Actually, since we didn't normalize the numeric colunns, this analysis is a bit wrong. Anyway, I am doing this only to see wheter all the bool features are useful or some of them is just doesn't discriminative at all."
   ]
  },
  {
   "cell_type": "code",
   "execution_count": 213,
   "metadata": {},
   "outputs": [],
   "source": [
    "# Drop columns with zero variance from  df_profile\n",
    "df_profile = df_profile.drop(columns=zero_variance_columns)"
   ]
  },
  {
   "cell_type": "code",
   "execution_count": 214,
   "metadata": {},
   "outputs": [
    {
     "data": {
      "text/plain": [
       "(5415, 15)"
      ]
     },
     "execution_count": 214,
     "metadata": {},
     "output_type": "execute_result"
    }
   ],
   "source": [
    "df_profile.shape"
   ]
  },
  {
   "cell_type": "code",
   "execution_count": 215,
   "metadata": {},
   "outputs": [
    {
     "data": {
      "text/html": [
       "<div>\n",
       "<style scoped>\n",
       "    .dataframe tbody tr th:only-of-type {\n",
       "        vertical-align: middle;\n",
       "    }\n",
       "\n",
       "    .dataframe tbody tr th {\n",
       "        vertical-align: top;\n",
       "    }\n",
       "\n",
       "    .dataframe thead th {\n",
       "        text-align: right;\n",
       "    }\n",
       "</style>\n",
       "<table border=\"1\" class=\"dataframe\">\n",
       "  <thead>\n",
       "    <tr style=\"text-align: right;\">\n",
       "      <th></th>\n",
       "      <th>username</th>\n",
       "      <th>full_name</th>\n",
       "      <th>biography</th>\n",
       "      <th>category_name</th>\n",
       "      <th>follower_count</th>\n",
       "      <th>following_count</th>\n",
       "      <th>is_business_account</th>\n",
       "      <th>is_verified</th>\n",
       "      <th>highlight_reel_count</th>\n",
       "      <th>entities</th>\n",
       "      <th>has_clips</th>\n",
       "      <th>hide_like_and_view_counts</th>\n",
       "      <th>business_contact_method</th>\n",
       "      <th>should_show_category</th>\n",
       "      <th>should_show_public_contacts</th>\n",
       "    </tr>\n",
       "  </thead>\n",
       "  <tbody>\n",
       "  </tbody>\n",
       "</table>\n",
       "</div>"
      ],
      "text/plain": [
       "Empty DataFrame\n",
       "Columns: [username, full_name, biography, category_name, follower_count, following_count, is_business_account, is_verified, highlight_reel_count, entities, has_clips, hide_like_and_view_counts, business_contact_method, should_show_category, should_show_public_contacts]\n",
       "Index: []"
      ]
     },
     "execution_count": 215,
     "metadata": {},
     "output_type": "execute_result"
    }
   ],
   "source": [
    "df_profile.head(0)"
   ]
  },
  {
   "cell_type": "code",
   "execution_count": 216,
   "metadata": {},
   "outputs": [
    {
     "name": "stdout",
     "output_type": "stream",
     "text": [
      "Number of UNKNOWN values: 2527\n",
      "Percentage of UNKNOWN values: 46.67%\n"
     ]
    }
   ],
   "source": [
    "# Count UNKNOWN values and calculate percentage\n",
    "unknown_count = (df_profile['business_contact_method'] == 'UNKNOWN').sum()\n",
    "total_count = len(df_profile)\n",
    "unknown_percentage = (unknown_count / total_count) * 100\n",
    "\n",
    "print(f\"Number of UNKNOWN values: {unknown_count}\")\n",
    "print(f\"Percentage of UNKNOWN values: {unknown_percentage:.2f}%\")"
   ]
  },
  {
   "cell_type": "code",
   "execution_count": 217,
   "metadata": {},
   "outputs": [
    {
     "name": "stdout",
     "output_type": "stream",
     "text": [
      "CALL      :  2778 ( 51.30%)\n",
      "UNKNOWN   :  2527 ( 46.67%)\n",
      "TEXT      :   110 (  2.03%)\n"
     ]
    }
   ],
   "source": [
    "# Create dummy variables for business_contact_method\n",
    "business_contact_encoded = pd.get_dummies(df_profile['business_contact_method'], prefix='contact')\n",
    "\n",
    "# Get the distribution\n",
    "contact_distribution = df_profile['business_contact_method'].value_counts()\n",
    "contact_percentage = (contact_distribution / len(df_profile) * 100).round(2)\n",
    "\n",
    "# Display distribution with counts and percentages\n",
    "for method, count in contact_distribution.items():\n",
    "    percentage = contact_percentage[method]\n",
    "    print(f\"{method:<10}: {count:>5} ({percentage:>6.2f}%)\")\n"
   ]
  },
  {
   "cell_type": "code",
   "execution_count": 218,
   "metadata": {},
   "outputs": [],
   "source": [
    "df_profile = df_profile.drop(columns=['business_contact_method'])"
   ]
  },
  {
   "cell_type": "markdown",
   "metadata": {},
   "source": [
    "Now, let's see the correleation between the columns"
   ]
  },
  {
   "cell_type": "code",
   "execution_count": 219,
   "metadata": {},
   "outputs": [
    {
     "data": {
      "image/png": "[encoded data removed]",
      "text/plain": [
       "<Figure size 864x720 with 2 Axes>"
      ]
     },
     "metadata": {
      "needs_background": "light"
     },
     "output_type": "display_data"
    }
   ],
   "source": [
    "import seaborn as sns\n",
    "\n",
    "import matplotlib.pyplot as plt\n",
    "\n",
    "# Select numeric columns for correlation\n",
    "numeric_cols = df_profile.select_dtypes(include=['int64', 'bool']).copy()\n",
    "\n",
    "# Convert boolean columns to int\n",
    "numeric_cols = numeric_cols.astype(int)\n",
    "\n",
    "# Calculate correlation matrix\n",
    "correlation_matrix = numeric_cols.corr()\n",
    "\n",
    "# Create a figure with appropriate size\n",
    "plt.figure(figsize=(12, 10))\n",
    "\n",
    "# Create heatmap\n",
    "sns.heatmap(correlation_matrix, \n",
    "            annot=True,  # Show correlation values\n",
    "            cmap='coolwarm',  # Color scheme\n",
    "            center=0,  # Center the colormap at 0\n",
    "            fmt='.2f',  # Format correlation values to 2 decimal places\n",
    "            square=True)  # Make the plot square-shaped\n",
    "\n",
    "plt.title('Correlation Matrix of Profile Features')\n",
    "plt.tight_layout()\n",
    "plt.show()"
   ]
  },
  {
   "cell_type": "markdown",
   "metadata": {},
   "source": [
    "It seems like highlighted_reel_count and has_clips has no negative or positive correlation with anything. They are most likely to be independent. However, to assure ourselfe we will include the labels into the picture and measure the mutual information wrt labels of each column"
   ]
  },
  {
   "cell_type": "code",
   "execution_count": 220,
   "metadata": {},
   "outputs": [
    {
     "data": {
      "text/html": [
       "<div>\n",
       "<style scoped>\n",
       "    .dataframe tbody tr th:only-of-type {\n",
       "        vertical-align: middle;\n",
       "    }\n",
       "\n",
       "    .dataframe tbody tr th {\n",
       "        vertical-align: top;\n",
       "    }\n",
       "\n",
       "    .dataframe thead th {\n",
       "        text-align: right;\n",
       "    }\n",
       "</style>\n",
       "<table border=\"1\" class=\"dataframe\">\n",
       "  <thead>\n",
       "    <tr style=\"text-align: right;\">\n",
       "      <th></th>\n",
       "      <th>username</th>\n",
       "      <th>full_name</th>\n",
       "      <th>biography</th>\n",
       "      <th>category_name</th>\n",
       "      <th>follower_count</th>\n",
       "      <th>following_count</th>\n",
       "      <th>is_business_account</th>\n",
       "      <th>is_verified</th>\n",
       "      <th>highlight_reel_count</th>\n",
       "      <th>entities</th>\n",
       "      <th>has_clips</th>\n",
       "      <th>hide_like_and_view_counts</th>\n",
       "      <th>should_show_category</th>\n",
       "      <th>should_show_public_contacts</th>\n",
       "      <th>label</th>\n",
       "    </tr>\n",
       "  </thead>\n",
       "  <tbody>\n",
       "    <tr>\n",
       "      <th>0</th>\n",
       "      <td>deparmedya</td>\n",
       "      <td>Depar Medya</td>\n",
       "      <td>#mediaplanning #mediabuying #sosyalmedya</td>\n",
       "      <td>Local business</td>\n",
       "      <td>1167</td>\n",
       "      <td>192</td>\n",
       "      <td>True</td>\n",
       "      <td>False</td>\n",
       "      <td>6</td>\n",
       "      <td>#mediaplanning #mediabuying #sosyalmedya</td>\n",
       "      <td>True</td>\n",
       "      <td>False</td>\n",
       "      <td>True</td>\n",
       "      <td>True</td>\n",
       "      <td>Tech</td>\n",
       "    </tr>\n",
       "    <tr>\n",
       "      <th>1</th>\n",
       "      <td>kafesfirin</td>\n",
       "      <td>KAFES FIRIN</td>\n",
       "      <td>📍Söğütözü📍FTZ AVM\\n🛒Ankara macro▲center v...</td>\n",
       "      <td>Brand</td>\n",
       "      <td>11997</td>\n",
       "      <td>17</td>\n",
       "      <td>True</td>\n",
       "      <td>False</td>\n",
       "      <td>15</td>\n",
       "      <td>📍Söğütözü📍FTZ AVM\\n🛒Ankara macro▲center v...</td>\n",
       "      <td>True</td>\n",
       "      <td>False</td>\n",
       "      <td>True</td>\n",
       "      <td>True</td>\n",
       "      <td>Food</td>\n",
       "    </tr>\n",
       "    <tr>\n",
       "      <th>2</th>\n",
       "      <td>vimerang</td>\n",
       "      <td>Vimerang</td>\n",
       "      <td>Dijital İletişim Yönetimi🎬info@vimerang.comq</td>\n",
       "      <td></td>\n",
       "      <td>2321</td>\n",
       "      <td>454</td>\n",
       "      <td>True</td>\n",
       "      <td>False</td>\n",
       "      <td>11</td>\n",
       "      <td>Dijital İletişim Yönetimi🎬info@vimerang.comq</td>\n",
       "      <td>True</td>\n",
       "      <td>True</td>\n",
       "      <td>True</td>\n",
       "      <td>True</td>\n",
       "      <td>Tech</td>\n",
       "    </tr>\n",
       "    <tr>\n",
       "      <th>3</th>\n",
       "      <td>mustafa_yalcinn38</td>\n",
       "      <td>Mustafa Yalçın</td>\n",
       "      <td>Talas Belediye Başkanı</td>\n",
       "      <td>Politician</td>\n",
       "      <td>13647</td>\n",
       "      <td>29</td>\n",
       "      <td>True</td>\n",
       "      <td>True</td>\n",
       "      <td>2</td>\n",
       "      <td>Talas Belediye Başkanı</td>\n",
       "      <td>True</td>\n",
       "      <td>False</td>\n",
       "      <td>True</td>\n",
       "      <td>False</td>\n",
       "      <td>Health and Lifestyle</td>\n",
       "    </tr>\n",
       "    <tr>\n",
       "      <th>4</th>\n",
       "      <td>zorluenergysolutions</td>\n",
       "      <td>ZES (Zorlu Energy Solutions)</td>\n",
       "      <td>Türkiye’nin 81 ilindeki en yaygın elektrikli ş...</td>\n",
       "      <td></td>\n",
       "      <td>7917</td>\n",
       "      <td>11</td>\n",
       "      <td>True</td>\n",
       "      <td>True</td>\n",
       "      <td>7</td>\n",
       "      <td>Türkiye’nin 81 ilindeki en yaygın elektrikli ş...</td>\n",
       "      <td>True</td>\n",
       "      <td>False</td>\n",
       "      <td>True</td>\n",
       "      <td>True</td>\n",
       "      <td>Tech</td>\n",
       "    </tr>\n",
       "  </tbody>\n",
       "</table>\n",
       "</div>"
      ],
      "text/plain": [
       "               username                     full_name  \\\n",
       "0            deparmedya                   Depar Medya   \n",
       "1            kafesfirin                   KAFES FIRIN   \n",
       "2              vimerang                      Vimerang   \n",
       "3     mustafa_yalcinn38               Mustafa Yalçın   \n",
       "4  zorluenergysolutions  ZES (Zorlu Energy Solutions)   \n",
       "\n",
       "                                           biography   category_name  \\\n",
       "0           #mediaplanning #mediabuying #sosyalmedya  Local business   \n",
       "1  📍Söğütözü📍FTZ AVM\\n🛒Ankara macro▲center v...           Brand   \n",
       "2       Dijital İletişim Yönetimi🎬info@vimerang.comq                   \n",
       "3                            Talas Belediye Başkanı      Politician   \n",
       "4  Türkiye’nin 81 ilindeki en yaygın elektrikli ş...                   \n",
       "\n",
       "   follower_count  following_count  is_business_account  is_verified  \\\n",
       "0            1167              192                 True        False   \n",
       "1           11997               17                 True        False   \n",
       "2            2321              454                 True        False   \n",
       "3           13647               29                 True         True   \n",
       "4            7917               11                 True         True   \n",
       "\n",
       "   highlight_reel_count                                           entities  \\\n",
       "0                     6           #mediaplanning #mediabuying #sosyalmedya   \n",
       "1                    15  📍Söğütözü📍FTZ AVM\\n🛒Ankara macro▲center v...   \n",
       "2                    11       Dijital İletişim Yönetimi🎬info@vimerang.comq   \n",
       "3                     2                            Talas Belediye Başkanı   \n",
       "4                     7  Türkiye’nin 81 ilindeki en yaygın elektrikli ş...   \n",
       "\n",
       "   has_clips  hide_like_and_view_counts  should_show_category  \\\n",
       "0       True                      False                  True   \n",
       "1       True                      False                  True   \n",
       "2       True                       True                  True   \n",
       "3       True                      False                  True   \n",
       "4       True                      False                  True   \n",
       "\n",
       "   should_show_public_contacts                 label  \n",
       "0                         True                  Tech  \n",
       "1                         True                  Food  \n",
       "2                         True                  Tech  \n",
       "3                        False  Health and Lifestyle  \n",
       "4                         True                  Tech  "
      ]
     },
     "execution_count": 220,
     "metadata": {},
     "output_type": "execute_result"
    }
   ],
   "source": [
    "# Load the training classification data\n",
    "training_data = pd.read_csv('train-classification.csv')\n",
    "training_data.head()\n",
    "# Rename the column Unnamed: 0 to username\n",
    "training_data = training_data.rename(columns={'Unnamed: 0': 'username'})\n",
    "training_data.head()\n",
    "# Merge the df_profile and training_data dataframes\n",
    "merged_df = pd.merge(df_profile, training_data, on='username')\n",
    "\n",
    "merged_df.head()\n",
    "\n",
    "\n"
   ]
  },
  {
   "cell_type": "code",
   "execution_count": 221,
   "metadata": {},
   "outputs": [],
   "source": [
    "from sklearn.preprocessing import LabelEncoder\n",
    "\n",
    "from sklearn.preprocessing import LabelEncoder\n",
    "\n",
    "label_encoders = {}\n",
    "\n",
    "# Encode 'category_name'\n",
    "label_encoders['category_name'] = LabelEncoder()\n",
    "merged_df['category_name'] = label_encoders['category_name'].fit_transform(merged_df['category_name'])\n",
    "\n",
    "# Encode 'label'\n",
    "label_encoders['label'] = LabelEncoder()\n",
    "merged_df['label'] = label_encoders['label'].fit_transform(merged_df['label'])\n",
    "\n",
    "\n"
   ]
  },
  {
   "cell_type": "code",
   "execution_count": 222,
   "metadata": {},
   "outputs": [
    {
     "name": "stdout",
     "output_type": "stream",
     "text": [
      "                       Feature  Mutual Information\n",
      "0               follower_count            0.076323\n",
      "1              following_count            0.058265\n",
      "3                  is_verified            0.036417\n",
      "4         highlight_reel_count            0.028805\n",
      "2          is_business_account            0.028053\n",
      "8  should_show_public_contacts            0.026341\n",
      "7         should_show_category            0.021793\n",
      "5                    has_clips            0.000000\n",
      "6    hide_like_and_view_counts            0.000000\n"
     ]
    }
   ],
   "source": [
    "from sklearn.feature_selection import mutual_info_regression\n",
    "import pandas as pd\n",
    "\n",
    "# Replace NaNs if needed and drop non-numeric columns\n",
    "merged_df = merged_df.fillna(0)  # Replace missing values\n",
    "merged_df = merged_df.drop(columns=text_colums)  # Drop text columns if present\n",
    "\n",
    "# Define the target column\n",
    "target_column = 'label'\n",
    "feature_columns = [col for col in merged_df.columns if col != target_column]\n",
    "\n",
    "# Calculate mutual information between features and the target column\n",
    "mutual_info_values = mutual_info_regression(merged_df[feature_columns], merged_df[target_column])\n",
    "\n",
    "# Create a DataFrame for better readability\n",
    "mutual_info_df = pd.DataFrame({\n",
    "    'Feature': feature_columns,\n",
    "    'Mutual Information': mutual_info_values\n",
    "}).sort_values(by='Mutual Information', ascending=False)\n",
    "\n",
    "# Display the mutual information values\n",
    "print(mutual_info_df)\n"
   ]
  },
  {
   "cell_type": "code",
   "execution_count": 223,
   "metadata": {},
   "outputs": [],
   "source": [
    "df_profile = df_profile.drop(columns=['should_show_category', 'has_clips', 'hide_like_and_view_counts', 'should_show_public_contacts'])"
   ]
  },
  {
   "cell_type": "code",
   "execution_count": 224,
   "metadata": {},
   "outputs": [
    {
     "data": {
      "text/html": [
       "<div>\n",
       "<style scoped>\n",
       "    .dataframe tbody tr th:only-of-type {\n",
       "        vertical-align: middle;\n",
       "    }\n",
       "\n",
       "    .dataframe tbody tr th {\n",
       "        vertical-align: top;\n",
       "    }\n",
       "\n",
       "    .dataframe thead th {\n",
       "        text-align: right;\n",
       "    }\n",
       "</style>\n",
       "<table border=\"1\" class=\"dataframe\">\n",
       "  <thead>\n",
       "    <tr style=\"text-align: right;\">\n",
       "      <th></th>\n",
       "      <th>username</th>\n",
       "      <th>full_name</th>\n",
       "      <th>biography</th>\n",
       "      <th>category_name</th>\n",
       "      <th>follower_count</th>\n",
       "      <th>following_count</th>\n",
       "      <th>is_business_account</th>\n",
       "      <th>is_verified</th>\n",
       "      <th>highlight_reel_count</th>\n",
       "      <th>entities</th>\n",
       "    </tr>\n",
       "  </thead>\n",
       "  <tbody>\n",
       "    <tr>\n",
       "      <th>0</th>\n",
       "      <td>deparmedya</td>\n",
       "      <td>Depar Medya</td>\n",
       "      <td>#mediaplanning #mediabuying #sosyalmedya</td>\n",
       "      <td>Local business</td>\n",
       "      <td>1167</td>\n",
       "      <td>192</td>\n",
       "      <td>True</td>\n",
       "      <td>False</td>\n",
       "      <td>6</td>\n",
       "      <td>#mediaplanning #mediabuying #sosyalmedya</td>\n",
       "    </tr>\n",
       "    <tr>\n",
       "      <th>1</th>\n",
       "      <td>beyazyakaliyiz</td>\n",
       "      <td>Selam Beyaz Yakalı</td>\n",
       "      <td>Beyaz yakalıların dünyasına hoşgeldiniz 😀😀😀</td>\n",
       "      <td>Personal blog</td>\n",
       "      <td>1265</td>\n",
       "      <td>665</td>\n",
       "      <td>True</td>\n",
       "      <td>False</td>\n",
       "      <td>0</td>\n",
       "      <td>Beyaz yakalıların dünyasına hoşgeldiniz 😀😀😀</td>\n",
       "    </tr>\n",
       "    <tr>\n",
       "      <th>2</th>\n",
       "      <td>kafesfirin</td>\n",
       "      <td>KAFES FIRIN</td>\n",
       "      <td>📍Söğütözü📍FTZ AVM\\n🛒Ankara macro▲center v...</td>\n",
       "      <td>Brand</td>\n",
       "      <td>11997</td>\n",
       "      <td>17</td>\n",
       "      <td>True</td>\n",
       "      <td>False</td>\n",
       "      <td>15</td>\n",
       "      <td>📍Söğütözü📍FTZ AVM\\n🛒Ankara macro▲center v...</td>\n",
       "    </tr>\n",
       "    <tr>\n",
       "      <th>3</th>\n",
       "      <td>vimerang</td>\n",
       "      <td>Vimerang</td>\n",
       "      <td>Dijital İletişim Yönetimi🎬info@vimerang.comq</td>\n",
       "      <td></td>\n",
       "      <td>2321</td>\n",
       "      <td>454</td>\n",
       "      <td>True</td>\n",
       "      <td>False</td>\n",
       "      <td>11</td>\n",
       "      <td>Dijital İletişim Yönetimi🎬info@vimerang.comq</td>\n",
       "    </tr>\n",
       "    <tr>\n",
       "      <th>4</th>\n",
       "      <td>totalenergies_istasyonlari</td>\n",
       "      <td>TotalEnergies İstasyonları</td>\n",
       "      <td>TotalEnergies İstasyonları resmi Instagram hes...</td>\n",
       "      <td>Energy Company</td>\n",
       "      <td>28025</td>\n",
       "      <td>4</td>\n",
       "      <td>True</td>\n",
       "      <td>False</td>\n",
       "      <td>10</td>\n",
       "      <td>TotalEnergies İstasyonları resmi Instagram hes...</td>\n",
       "    </tr>\n",
       "  </tbody>\n",
       "</table>\n",
       "</div>"
      ],
      "text/plain": [
       "                     username                    full_name  \\\n",
       "0                  deparmedya                  Depar Medya   \n",
       "1              beyazyakaliyiz           Selam Beyaz Yakalı   \n",
       "2                  kafesfirin                  KAFES FIRIN   \n",
       "3                    vimerang                     Vimerang   \n",
       "4  totalenergies_istasyonlari  TotalEnergies İstasyonları   \n",
       "\n",
       "                                           biography   category_name  \\\n",
       "0           #mediaplanning #mediabuying #sosyalmedya  Local business   \n",
       "1        Beyaz yakalıların dünyasına hoşgeldiniz 😀😀😀   Personal blog   \n",
       "2  📍Söğütözü📍FTZ AVM\\n🛒Ankara macro▲center v...           Brand   \n",
       "3       Dijital İletişim Yönetimi🎬info@vimerang.comq                   \n",
       "4  TotalEnergies İstasyonları resmi Instagram hes...  Energy Company   \n",
       "\n",
       "   follower_count  following_count  is_business_account  is_verified  \\\n",
       "0            1167              192                 True        False   \n",
       "1            1265              665                 True        False   \n",
       "2           11997               17                 True        False   \n",
       "3            2321              454                 True        False   \n",
       "4           28025                4                 True        False   \n",
       "\n",
       "   highlight_reel_count                                           entities  \n",
       "0                     6           #mediaplanning #mediabuying #sosyalmedya  \n",
       "1                     0        Beyaz yakalıların dünyasına hoşgeldiniz 😀😀😀  \n",
       "2                    15  📍Söğütözü📍FTZ AVM\\n🛒Ankara macro▲center v...  \n",
       "3                    11       Dijital İletişim Yönetimi🎬info@vimerang.comq  \n",
       "4                    10  TotalEnergies İstasyonları resmi Instagram hes...  "
      ]
     },
     "execution_count": 224,
     "metadata": {},
     "output_type": "execute_result"
    }
   ],
   "source": [
    "df_profile.head()"
   ]
  },
  {
   "cell_type": "markdown",
   "metadata": {},
   "source": [
    "### Conclusion: \n",
    "\n",
    "- We have the remaining 10 features, now we need to do feature extraction from text based columns.\n",
    "\n",
    "- We will most likely drop the username since it is also unique, but will keep the full name and merge it with the biography\n",
    "\n",
    "- Since the category name varies too much, I believe it is also meaningful to merge these things into biography.\n",
    "\n",
    "- The entities column also will be merged into the biography, then we will implement some vectorization to this new biography. (TF-IDF etc.)\n",
    "\n",
    "- If we do all these merges at the end we will have 6 features and I think this is the best of what we can use according to analysis till now."
   ]
  },
  {
   "cell_type": "code",
   "execution_count": 2,
   "metadata": {
    "vscode": {
     "languageId": "ruby"
    }
   },
   "outputs": [],
   "source": [
    "dropped_columns = [\n",
    "    # From cell 8\n",
    "    'id', 'bio_links', 'country_block', 'eimu_id', 'external_url', 'fbid',\n",
    "    'profile_pic_url', 'profile_picture_base64', 'fb_profile_biolink',\n",
    "    'show_account_transparency_details', 'business_address_json',\n",
    "    \n",
    "    # From cell 13\n",
    "    'business_phone_number', 'overall_category_name', 'business_email',\n",
    "    'ai_agent_type', 'restricted_by_viewer', 'business_category_name',\n",
    "    'post_count', 'category_enum',\n",
    "    \n",
    "    # From cell 19 (zero_variance_columns)\n",
    "    'is_professional_account', 'is_private', 'is_regulated_c18',\n",
    "    'is_guardian_of_viewer', 'is_supervised_by_viewer', 'is_supervised_user',\n",
    "    'is_embeds_disabled', 'is_joined_recently', 'is_verified_by_mv4b',\n",
    "    'is_supervision_enabled',\n",
    "    \n",
    "    # From cell 26\n",
    "    'business_contact_method',\n",
    "    \n",
    "    # From cell 33\n",
    "    'should_show_category', 'has_clips', 'hide_like_and_view_counts',\n",
    "    'should_show_public_contacts'\n",
    "]"
   ]
  },
  {
   "cell_type": "code",
   "execution_count": 3,
   "metadata": {
    "vscode": {
     "languageId": "ruby"
    }
   },
   "outputs": [
    {
     "data": {
      "text/plain": [
       "34"
      ]
     },
     "execution_count": 3,
     "metadata": {},
     "output_type": "execute_result"
    }
   ],
   "source": [
    "len(dropped_columns)"
   ]
  },
  {
   "cell_type": "code",
   "execution_count": null,
   "metadata": {
    "vscode": {
     "languageId": "ruby"
    }
   },
   "outputs": [],
   "source": []
  }
 ],
 "metadata": {
  "kernelspec": {
   "display_name": "base",
   "language": "python",
   "name": "python3"
  },
  "language_info": {
   "codemirror_mode": {
    "name": "ipython",
    "version": 3
   },
   "file_extension": ".py",
   "mimetype": "text/x-python",
   "name": "python",
   "nbconvert_exporter": "python",
   "pygments_lexer": "ipython3",
   "version": "3.9.7"
  }
 },
 "nbformat": 4,
 "nbformat_minor": 2
}
